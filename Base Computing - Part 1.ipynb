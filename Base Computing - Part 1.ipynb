{
 "cells": [
  {
   "cell_type": "markdown",
   "id": "d321ef64",
   "metadata": {},
   "source": [
    "## This is my notebook in ECE 2112!"
   ]
  },
  {
   "cell_type": "code",
   "execution_count": null,
   "id": "b7d58f97",
   "metadata": {},
   "outputs": [],
   "source": []
  },
  {
   "cell_type": "code",
   "execution_count": 1,
   "id": "3f4af947",
   "metadata": {},
   "outputs": [
    {
     "data": {
      "text/plain": [
       "int"
      ]
     },
     "execution_count": 1,
     "metadata": {},
     "output_type": "execute_result"
    }
   ],
   "source": [
    "type(346)"
   ]
  },
  {
   "cell_type": "code",
   "execution_count": 2,
   "id": "cf8b4e89",
   "metadata": {},
   "outputs": [
    {
     "data": {
      "text/plain": [
       "float"
      ]
     },
     "execution_count": 2,
     "metadata": {},
     "output_type": "execute_result"
    }
   ],
   "source": [
    "type(45.3)"
   ]
  },
  {
   "cell_type": "code",
   "execution_count": 3,
   "id": "421379a9",
   "metadata": {},
   "outputs": [
    {
     "data": {
      "text/plain": [
       "str"
      ]
     },
     "execution_count": 3,
     "metadata": {},
     "output_type": "execute_result"
    }
   ],
   "source": [
    "type('c')"
   ]
  },
  {
   "cell_type": "code",
   "execution_count": 4,
   "id": "5b070942",
   "metadata": {},
   "outputs": [
    {
     "data": {
      "text/plain": [
       "bool"
      ]
     },
     "execution_count": 4,
     "metadata": {},
     "output_type": "execute_result"
    }
   ],
   "source": [
    "type(True)"
   ]
  },
  {
   "cell_type": "markdown",
   "id": "a80b5c7a",
   "metadata": {},
   "source": [
    "## Python Type Conversion\n",
    "### How will I convert 34.5 to integer?"
   ]
  },
  {
   "cell_type": "code",
   "execution_count": 5,
   "id": "5ba7ccfb",
   "metadata": {},
   "outputs": [
    {
     "data": {
      "text/plain": [
       "34"
      ]
     },
     "execution_count": 5,
     "metadata": {},
     "output_type": "execute_result"
    }
   ],
   "source": [
    "int(34.5)"
   ]
  },
  {
   "cell_type": "code",
   "execution_count": 6,
   "id": "e8728263",
   "metadata": {},
   "outputs": [
    {
     "data": {
      "text/plain": [
       "45.0"
      ]
     },
     "execution_count": 6,
     "metadata": {},
     "output_type": "execute_result"
    }
   ],
   "source": [
    "float(45)"
   ]
  },
  {
   "cell_type": "markdown",
   "id": "e968b00b",
   "metadata": {},
   "source": [
    "## Operations on INTs and FLOATs"
   ]
  },
  {
   "cell_type": "code",
   "execution_count": 7,
   "id": "062d59db",
   "metadata": {},
   "outputs": [
    {
     "data": {
      "text/plain": [
       "143"
      ]
     },
     "execution_count": 7,
     "metadata": {},
     "output_type": "execute_result"
    }
   ],
   "source": [
    "#Addition\n",
    "78+65"
   ]
  },
  {
   "cell_type": "code",
   "execution_count": 8,
   "id": "d4a4f625",
   "metadata": {},
   "outputs": [
    {
     "data": {
      "text/plain": [
       "-7"
      ]
     },
     "execution_count": 8,
     "metadata": {},
     "output_type": "execute_result"
    }
   ],
   "source": [
    "#Subtraction\n",
    "78-85"
   ]
  },
  {
   "cell_type": "code",
   "execution_count": 9,
   "id": "e014e991",
   "metadata": {},
   "outputs": [
    {
     "data": {
      "text/plain": [
       "6630"
      ]
     },
     "execution_count": 9,
     "metadata": {},
     "output_type": "execute_result"
    }
   ],
   "source": [
    "#Multiplication\n",
    "78*85"
   ]
  },
  {
   "cell_type": "code",
   "execution_count": 10,
   "id": "e28d9e47",
   "metadata": {},
   "outputs": [
    {
     "data": {
      "text/plain": [
       "67304054671971450739989420306807619836799377985470716666894760506378032361691314076427140597397010589541943423481240405499752742660038542135357687606606894727168"
      ]
     },
     "execution_count": 10,
     "metadata": {},
     "output_type": "execute_result"
    }
   ],
   "source": [
    "#Exponentation\n",
    "78**85"
   ]
  },
  {
   "cell_type": "code",
   "execution_count": 11,
   "id": "9e8ee103",
   "metadata": {},
   "outputs": [
    {
     "data": {
      "text/plain": [
       "3.3333333333333335"
      ]
     },
     "execution_count": 11,
     "metadata": {},
     "output_type": "execute_result"
    }
   ],
   "source": [
    "#Division (Float) - isang slash lang\n",
    "20/6"
   ]
  },
  {
   "cell_type": "code",
   "execution_count": 12,
   "id": "af2c1d40",
   "metadata": {},
   "outputs": [
    {
     "data": {
      "text/plain": [
       "3"
      ]
     },
     "execution_count": 12,
     "metadata": {},
     "output_type": "execute_result"
    }
   ],
   "source": [
    "#Division (Int) - dalawang slash \n",
    "20//6"
   ]
  },
  {
   "cell_type": "code",
   "execution_count": 13,
   "id": "497c42c8",
   "metadata": {},
   "outputs": [
    {
     "data": {
      "text/plain": [
       "2"
      ]
     },
     "execution_count": 13,
     "metadata": {},
     "output_type": "execute_result"
    }
   ],
   "source": [
    "#Modulo - remainder\n",
    "20%6"
   ]
  },
  {
   "cell_type": "markdown",
   "id": "77e990a5",
   "metadata": {},
   "source": [
    "## Operations on Strings"
   ]
  },
  {
   "cell_type": "markdown",
   "id": "58ec7e8b",
   "metadata": {},
   "source": [
    "Strings - "
   ]
  },
  {
   "cell_type": "code",
   "execution_count": 2,
   "id": "c436da09",
   "metadata": {},
   "outputs": [
    {
     "data": {
      "text/plain": [
       "'Advanced Programming'"
      ]
     },
     "execution_count": 2,
     "metadata": {},
     "output_type": "execute_result"
    }
   ],
   "source": [
    "s = \"Advanced Programming\"\n",
    "s"
   ]
  },
  {
   "cell_type": "code",
   "execution_count": 15,
   "id": "68e6d7af",
   "metadata": {},
   "outputs": [
    {
     "data": {
      "text/plain": [
       "'aDVANCED pROGRAMMING'"
      ]
     },
     "execution_count": 15,
     "metadata": {},
     "output_type": "execute_result"
    }
   ],
   "source": [
    "s.swapcase()"
   ]
  },
  {
   "cell_type": "code",
   "execution_count": 16,
   "id": "03885f76",
   "metadata": {},
   "outputs": [
    {
     "data": {
      "text/plain": [
       "'v'"
      ]
     },
     "execution_count": 16,
     "metadata": {},
     "output_type": "execute_result"
    }
   ],
   "source": [
    "#Dependent on ASCII codes\n",
    "max(s)"
   ]
  },
  {
   "cell_type": "code",
   "execution_count": 17,
   "id": "546cce04",
   "metadata": {},
   "outputs": [
    {
     "data": {
      "text/plain": [
       "False"
      ]
     },
     "execution_count": 17,
     "metadata": {},
     "output_type": "execute_result"
    }
   ],
   "source": [
    "s.isupper()"
   ]
  },
  {
   "cell_type": "code",
   "execution_count": 18,
   "id": "40ed6b63",
   "metadata": {},
   "outputs": [
    {
     "data": {
      "text/plain": [
       "'Advanced Progra**ing'"
      ]
     },
     "execution_count": 18,
     "metadata": {},
     "output_type": "execute_result"
    }
   ],
   "source": [
    "s.replace(\"m\", \"*\")"
   ]
  },
  {
   "cell_type": "code",
   "execution_count": 19,
   "id": "e71d9287",
   "metadata": {},
   "outputs": [
    {
     "data": {
      "text/plain": [
       "True"
      ]
     },
     "execution_count": 19,
     "metadata": {},
     "output_type": "execute_result"
    }
   ],
   "source": [
    "x = \"gram\" in s\n",
    "x"
   ]
  },
  {
   "cell_type": "code",
   "execution_count": 20,
   "id": "7095fef7",
   "metadata": {},
   "outputs": [
    {
     "data": {
      "text/plain": [
       "'An gm'"
      ]
     },
     "execution_count": 20,
     "metadata": {},
     "output_type": "execute_result"
    }
   ],
   "source": [
    "#Slicing - string_name[indes ng first element: number of characters sa string including space: increment]\n",
    "s[0:20:4]"
   ]
  },
  {
   "cell_type": "code",
   "execution_count": 21,
   "id": "424ada47",
   "metadata": {},
   "outputs": [
    {
     "data": {
      "text/plain": [
       "'I love Advanced Programming'"
      ]
     },
     "execution_count": 21,
     "metadata": {},
     "output_type": "execute_result"
    }
   ],
   "source": [
    "txt = \"I love {}\"\n",
    "txt.format(s)"
   ]
  },
  {
   "cell_type": "markdown",
   "id": "1578bb75",
   "metadata": {},
   "source": [
    "# Python Data Structures\n",
    "### List - is a collection of data which uses straight brackets [ ] and commas to separate the object."
   ]
  },
  {
   "cell_type": "code",
   "execution_count": 22,
   "id": "36ddc603",
   "metadata": {},
   "outputs": [
    {
     "data": {
      "text/plain": [
       "['apple', 'banana', 'cherry']"
      ]
     },
     "execution_count": 22,
     "metadata": {},
     "output_type": "execute_result"
    }
   ],
   "source": [
    "m = [\"apple\", \"banana\", \"cherry\"]\n",
    "m"
   ]
  },
  {
   "cell_type": "code",
   "execution_count": 23,
   "id": "34ed8f5b",
   "metadata": {},
   "outputs": [
    {
     "name": "stdout",
     "output_type": "stream",
     "text": [
      "banana\n"
     ]
    }
   ],
   "source": [
    "print(m[1])"
   ]
  },
  {
   "cell_type": "code",
   "execution_count": 24,
   "id": "f7a425e9",
   "metadata": {},
   "outputs": [
    {
     "name": "stdout",
     "output_type": "stream",
     "text": [
      "cherry\n"
     ]
    }
   ],
   "source": [
    "print(m[-1])"
   ]
  },
  {
   "cell_type": "code",
   "execution_count": 25,
   "id": "ebd63009",
   "metadata": {},
   "outputs": [
    {
     "data": {
      "text/plain": [
       "['apple', 'banana', 'cherry', 'mango']"
      ]
     },
     "execution_count": 25,
     "metadata": {},
     "output_type": "execute_result"
    }
   ],
   "source": [
    "m.append(\"mango\")\n",
    "m"
   ]
  },
  {
   "cell_type": "code",
   "execution_count": 26,
   "id": "76e8cd1d",
   "metadata": {},
   "outputs": [
    {
     "data": {
      "text/plain": [
       "['apple', 'banana', 'orange', 'cherry', 'mango']"
      ]
     },
     "execution_count": 26,
     "metadata": {},
     "output_type": "execute_result"
    }
   ],
   "source": [
    "m.insert(2,\"orange\")\n",
    "m"
   ]
  },
  {
   "cell_type": "code",
   "execution_count": 27,
   "id": "d72b78e7",
   "metadata": {},
   "outputs": [
    {
     "data": {
      "text/plain": [
       "['apple', 'orange', 'cherry', 'mango']"
      ]
     },
     "execution_count": 27,
     "metadata": {},
     "output_type": "execute_result"
    }
   ],
   "source": [
    "m.remove(\"banana\")\n",
    "m"
   ]
  },
  {
   "cell_type": "code",
   "execution_count": 28,
   "id": "2fa71428",
   "metadata": {},
   "outputs": [
    {
     "data": {
      "text/plain": [
       "['apple', 'cherry', 'mango', 'orange']"
      ]
     },
     "execution_count": 28,
     "metadata": {},
     "output_type": "execute_result"
    }
   ],
   "source": [
    "m.sort()\n",
    "m"
   ]
  },
  {
   "cell_type": "code",
   "execution_count": 29,
   "id": "71e25059",
   "metadata": {},
   "outputs": [
    {
     "data": {
      "text/plain": [
       "['apple', 'mango', 'orange']"
      ]
     },
     "execution_count": 29,
     "metadata": {},
     "output_type": "execute_result"
    }
   ],
   "source": [
    "del m[1]\n",
    "m"
   ]
  },
  {
   "cell_type": "markdown",
   "id": "a06e4b38",
   "metadata": {},
   "source": [
    "### Dictionary - uses curly braces and colons to signify the keys to their associated values"
   ]
  },
  {
   "cell_type": "code",
   "execution_count": 31,
   "id": "b2bb8c30",
   "metadata": {},
   "outputs": [
    {
     "data": {
      "text/plain": [
       "{'Brand': 'Mitsubishi', 'Model': 'Mirage', 'year': 2018}"
      ]
     },
     "execution_count": 31,
     "metadata": {},
     "output_type": "execute_result"
    }
   ],
   "source": [
    "d = {\"Brand\":\"Mitsubishi\", \"Model\":\"Mirage\", \"year\":2018}\n",
    "d"
   ]
  },
  {
   "cell_type": "code",
   "execution_count": 36,
   "id": "0d1c7ff0",
   "metadata": {},
   "outputs": [
    {
     "data": {
      "text/plain": [
       "'Mirage'"
      ]
     },
     "execution_count": 36,
     "metadata": {},
     "output_type": "execute_result"
    }
   ],
   "source": [
    "d.get(\"Model\")"
   ]
  },
  {
   "cell_type": "code",
   "execution_count": 35,
   "id": "5d5027b9",
   "metadata": {},
   "outputs": [
    {
     "data": {
      "text/plain": [
       "{'Brand': 'Mitsubishi', 'Model': 'Mirage', 'year': 2018, 'color': 'pink'}"
      ]
     },
     "execution_count": 35,
     "metadata": {},
     "output_type": "execute_result"
    }
   ],
   "source": [
    "d[\"color\"] = \"pink\"\n",
    "d"
   ]
  },
  {
   "cell_type": "code",
   "execution_count": 37,
   "id": "7bd5f986",
   "metadata": {},
   "outputs": [
    {
     "data": {
      "text/plain": [
       "dict_keys(['Brand', 'Model', 'year', 'color'])"
      ]
     },
     "execution_count": 37,
     "metadata": {},
     "output_type": "execute_result"
    }
   ],
   "source": [
    "d.keys()"
   ]
  },
  {
   "cell_type": "code",
   "execution_count": 39,
   "id": "42c0e569",
   "metadata": {},
   "outputs": [
    {
     "data": {
      "text/plain": [
       "{'Brand': 'Mitsubishi', 'year': 2018, 'color': 'pink'}"
      ]
     },
     "execution_count": 39,
     "metadata": {},
     "output_type": "execute_result"
    }
   ],
   "source": [
    "d.pop(\"Model\")\n",
    "d"
   ]
  },
  {
   "cell_type": "code",
   "execution_count": 41,
   "id": "44118ef5",
   "metadata": {},
   "outputs": [
    {
     "data": {
      "text/plain": [
       "{'Brand': 'Mitsubishi'}"
      ]
     },
     "execution_count": 41,
     "metadata": {},
     "output_type": "execute_result"
    }
   ],
   "source": [
    "d.popitem()\n",
    "d"
   ]
  },
  {
   "cell_type": "markdown",
   "id": "2063b272",
   "metadata": {},
   "source": [
    "### Tuple - collection of data which is immutable"
   ]
  },
  {
   "cell_type": "code",
   "execution_count": 59,
   "id": "e74d80a3",
   "metadata": {},
   "outputs": [
    {
     "data": {
      "text/plain": [
       "('apple', 'banana', 'cherry', 'mango', 'orange')"
      ]
     },
     "execution_count": 59,
     "metadata": {},
     "output_type": "execute_result"
    }
   ],
   "source": [
    "t = \"apple\", \"banana\", \"cherry\", \"mango\", \"orange\"\n",
    "t"
   ]
  },
  {
   "cell_type": "code",
   "execution_count": 45,
   "id": "44db5182",
   "metadata": {},
   "outputs": [
    {
     "name": "stdout",
     "output_type": "stream",
     "text": [
      "banana\n"
     ]
    }
   ],
   "source": [
    "print(t[1])"
   ]
  },
  {
   "cell_type": "code",
   "execution_count": 46,
   "id": "b401c129",
   "metadata": {},
   "outputs": [
    {
     "name": "stdout",
     "output_type": "stream",
     "text": [
      "mango\n"
     ]
    }
   ],
   "source": [
    "print(t[-2])"
   ]
  },
  {
   "cell_type": "code",
   "execution_count": 56,
   "id": "d5e5ba83",
   "metadata": {},
   "outputs": [
    {
     "name": "stdout",
     "output_type": "stream",
     "text": [
      "('cherry',)\n"
     ]
    }
   ],
   "source": [
    "print(t[2:3])"
   ]
  },
  {
   "cell_type": "code",
   "execution_count": 47,
   "id": "76805b3a",
   "metadata": {},
   "outputs": [
    {
     "ename": "TypeError",
     "evalue": "'tuple' object does not support item assignment",
     "output_type": "error",
     "traceback": [
      "\u001b[1;31m---------------------------------------------------------------------------\u001b[0m",
      "\u001b[1;31mTypeError\u001b[0m                                 Traceback (most recent call last)",
      "Cell \u001b[1;32mIn[47], line 1\u001b[0m\n\u001b[1;32m----> 1\u001b[0m t[\u001b[38;5;241m2\u001b[39m] \u001b[38;5;241m=\u001b[39m \u001b[38;5;124m\"\u001b[39m\u001b[38;5;124morange\u001b[39m\u001b[38;5;124m\"\u001b[39m\n",
      "\u001b[1;31mTypeError\u001b[0m: 'tuple' object does not support item assignment"
     ]
    }
   ],
   "source": [
    "t[2] = \"orange\""
   ]
  },
  {
   "cell_type": "code",
   "execution_count": 48,
   "id": "fe7a5537",
   "metadata": {},
   "outputs": [
    {
     "data": {
      "text/plain": [
       "5"
      ]
     },
     "execution_count": 48,
     "metadata": {},
     "output_type": "execute_result"
    }
   ],
   "source": [
    "len(t)"
   ]
  },
  {
   "cell_type": "code",
   "execution_count": 61,
   "id": "a7e0e5cd",
   "metadata": {},
   "outputs": [
    {
     "ename": "NameError",
     "evalue": "name 't' is not defined",
     "output_type": "error",
     "traceback": [
      "\u001b[1;31m---------------------------------------------------------------------------\u001b[0m",
      "\u001b[1;31mNameError\u001b[0m                                 Traceback (most recent call last)",
      "Cell \u001b[1;32mIn[61], line 1\u001b[0m\n\u001b[1;32m----> 1\u001b[0m \u001b[38;5;28;01mdel\u001b[39;00m t\n\u001b[0;32m      2\u001b[0m t\n",
      "\u001b[1;31mNameError\u001b[0m: name 't' is not defined"
     ]
    }
   ],
   "source": [
    "del t\n",
    "t"
   ]
  },
  {
   "cell_type": "markdown",
   "id": "4036f757",
   "metadata": {},
   "source": [
    "## Set - collection of unique data elements which is unordered"
   ]
  },
  {
   "cell_type": "code",
   "execution_count": 62,
   "id": "5cb21abb",
   "metadata": {},
   "outputs": [
    {
     "data": {
      "text/plain": [
       "{'apple', 'banana', 'cherry'}"
      ]
     },
     "execution_count": 62,
     "metadata": {},
     "output_type": "execute_result"
    }
   ],
   "source": [
    "s = {\"apple\", \"banana\", \"cherry\", \"cherry\"}\n",
    "s"
   ]
  },
  {
   "cell_type": "code",
   "execution_count": 63,
   "id": "1189cf38",
   "metadata": {},
   "outputs": [
    {
     "data": {
      "text/plain": [
       "{'apple', 'banana', 'cherry', 'orange'}"
      ]
     },
     "execution_count": 63,
     "metadata": {},
     "output_type": "execute_result"
    }
   ],
   "source": [
    "s.add(\"orange\")\n",
    "s"
   ]
  },
  {
   "cell_type": "code",
   "execution_count": 64,
   "id": "eb57824b",
   "metadata": {},
   "outputs": [
    {
     "data": {
      "text/plain": [
       "{'apple', 'banana', 'cherry', 'grapes', 'mango', 'orange'}"
      ]
     },
     "execution_count": 64,
     "metadata": {},
     "output_type": "execute_result"
    }
   ],
   "source": [
    "s.update([\"mango\", \"grapes\"])\n",
    "s"
   ]
  },
  {
   "cell_type": "code",
   "execution_count": 65,
   "id": "42b5e5e1",
   "metadata": {},
   "outputs": [
    {
     "data": {
      "text/plain": [
       "{'apple', 'cherry', 'grapes', 'mango', 'orange'}"
      ]
     },
     "execution_count": 65,
     "metadata": {},
     "output_type": "execute_result"
    }
   ],
   "source": [
    "s.remove(\"banana\")\n",
    "s"
   ]
  },
  {
   "cell_type": "code",
   "execution_count": 66,
   "id": "db616c48",
   "metadata": {},
   "outputs": [
    {
     "data": {
      "text/plain": [
       "{'apple', 'cherry', 'grapes', 'orange'}"
      ]
     },
     "execution_count": 66,
     "metadata": {},
     "output_type": "execute_result"
    }
   ],
   "source": [
    "s.pop()\n",
    "s"
   ]
  },
  {
   "cell_type": "markdown",
   "id": "4bef59e9",
   "metadata": {},
   "source": [
    "## Input and Output in Python"
   ]
  },
  {
   "cell_type": "code",
   "execution_count": 67,
   "id": "2bf6bb5c",
   "metadata": {},
   "outputs": [
    {
     "name": "stdout",
     "output_type": "stream",
     "text": [
      "Enter you name: ria\n"
     ]
    }
   ],
   "source": [
    "p = input(\"Enter you name: \")"
   ]
  },
  {
   "cell_type": "code",
   "execution_count": 72,
   "id": "29cddb06",
   "metadata": {},
   "outputs": [
    {
     "name": "stdout",
     "output_type": "stream",
     "text": [
      "Enter a number: 12\n"
     ]
    }
   ],
   "source": [
    "n = int(input(\"Enter a number: \"))"
   ]
  },
  {
   "cell_type": "code",
   "execution_count": 74,
   "id": "7dfa4237",
   "metadata": {},
   "outputs": [
    {
     "name": "stdout",
     "output_type": "stream",
     "text": [
      "Enter a number: 12.143\n"
     ]
    }
   ],
   "source": [
    "n = float(input(\"Enter a number: \"))"
   ]
  },
  {
   "cell_type": "code",
   "execution_count": 75,
   "id": "a1d41f4e",
   "metadata": {},
   "outputs": [
    {
     "name": "stdout",
     "output_type": "stream",
     "text": [
      "Hello World\n"
     ]
    }
   ],
   "source": [
    "print(\"Hello World\")"
   ]
  },
  {
   "cell_type": "code",
   "execution_count": 76,
   "id": "0628f65b",
   "metadata": {},
   "outputs": [
    {
     "name": "stdout",
     "output_type": "stream",
     "text": [
      "12.143\n"
     ]
    }
   ],
   "source": [
    "print(n)"
   ]
  },
  {
   "cell_type": "code",
   "execution_count": 77,
   "id": "d532ccb1",
   "metadata": {},
   "outputs": [
    {
     "name": "stdout",
     "output_type": "stream",
     "text": [
      "My favorite number is 12.143 and I used it earlier\n"
     ]
    }
   ],
   "source": [
    "print(\"My favorite number is\", n, \"and I used it earlier\")"
   ]
  },
  {
   "cell_type": "markdown",
   "id": "2163e8b8",
   "metadata": {},
   "source": [
    "### IF statement"
   ]
  },
  {
   "cell_type": "code",
   "execution_count": 84,
   "id": "df00431c",
   "metadata": {},
   "outputs": [
    {
     "ename": "SyntaxError",
     "evalue": "invalid syntax. Maybe you meant '==' or ':=' instead of '='? (77733442.py, line 1)",
     "output_type": "error",
     "traceback": [
      "\u001b[1;36m  Cell \u001b[1;32mIn[84], line 1\u001b[1;36m\u001b[0m\n\u001b[1;33m    a = 33, b = 200\u001b[0m\n\u001b[1;37m    ^\u001b[0m\n\u001b[1;31mSyntaxError\u001b[0m\u001b[1;31m:\u001b[0m invalid syntax. Maybe you meant '==' or ':=' instead of '='?\n"
     ]
    }
   ],
   "source": [
    "a = 33, b = 200\n",
    "if b > a:print(\"b is greater tha a\")"
   ]
  },
  {
   "cell_type": "code",
   "execution_count": 85,
   "id": "1deead0b",
   "metadata": {},
   "outputs": [
    {
     "name": "stdout",
     "output_type": "stream",
     "text": [
      "I'm sorry\n",
      "You failed\n"
     ]
    }
   ],
   "source": [
    "grade = 58\n",
    "if grade < 60: print(\"I'm sorry\"); print(\"You failed\")"
   ]
  },
  {
   "cell_type": "markdown",
   "id": "bdaddf37",
   "metadata": {},
   "source": [
    "### IF ELSE"
   ]
  },
  {
   "cell_type": "code",
   "execution_count": 86,
   "id": "6455e023",
   "metadata": {},
   "outputs": [
    {
     "name": "stdout",
     "output_type": "stream",
     "text": [
      "b\n",
      "a\n",
      "n\n",
      "a\n",
      "n\n",
      "a\n"
     ]
    }
   ],
   "source": [
    "for x in \"banana\":\n",
    "    print(x)"
   ]
  },
  {
   "cell_type": "code",
   "execution_count": 101,
   "id": "67a970e4",
   "metadata": {},
   "outputs": [
    {
     "data": {
      "text/plain": [
       "30"
      ]
     },
     "execution_count": 101,
     "metadata": {},
     "output_type": "execute_result"
    }
   ],
   "source": [
    "def squaresum (n):\n",
    "    add = 0\n",
    "    for i in range (n+1):\n",
    "        add += i**2\n",
    "    return add\n",
    "squaresum(5)"
   ]
  },
  {
   "cell_type": "code",
   "execution_count": null,
   "id": "9ff6f368",
   "metadata": {},
   "outputs": [],
   "source": []
  }
 ],
 "metadata": {
  "kernelspec": {
   "display_name": "Python 3 (ipykernel)",
   "language": "python",
   "name": "python3"
  },
  "language_info": {
   "codemirror_mode": {
    "name": "ipython",
    "version": 3
   },
   "file_extension": ".py",
   "mimetype": "text/x-python",
   "name": "python",
   "nbconvert_exporter": "python",
   "pygments_lexer": "ipython3",
   "version": "3.11.4"
  }
 },
 "nbformat": 4,
 "nbformat_minor": 5
}
